{
 "cells": [
  {
   "cell_type": "markdown",
   "metadata": {},
   "source": [
    "# Genetic Algorithms\n",
    "\n",
    "The mains point of this algorithm is to find the best set of hyperparameters for a choosen Neural Network architecture. For this case, we will use an AlexNet architecture and "
   ]
  },
  {
   "cell_type": "code",
   "execution_count": 1,
   "metadata": {},
   "outputs": [
    {
     "name": "stderr",
     "output_type": "stream",
     "text": [
      "Using TensorFlow backend.\n"
     ]
    }
   ],
   "source": [
    "# All Imports Necessary\n",
    "import os\n",
    "import tensorflow as tf\n",
    "from tensorflow import keras\n",
    "from keras.models import Sequential\n",
    "from keras.layers import Dense\n",
    "from keras.layers import Dropout\n",
    "from keras.layers import Flatten\n",
    "from keras.constraints import maxnorm\n",
    "from keras.optimizers import SGD\n",
    "from keras.layers.convolutional import Conv2D\n",
    "from keras.layers.convolutional import MaxPooling2D\n",
    "import numpy as np\n",
    "import math\n",
    "import timeit\n",
    "import matplotlib.pyplot as plt\n",
    "import random\n",
    "import pandas as pd\n",
    "import time\n",
    "%matplotlib inline"
   ]
  },
  {
   "cell_type": "code",
   "execution_count": 2,
   "metadata": {},
   "outputs": [
    {
     "name": "stdout",
     "output_type": "stream",
     "text": [
      "Train data shape:  (49000, 32, 32, 3)\n",
      "Train labels shape:  (49000,) int32\n",
      "Validation data shape:  (1000, 32, 32, 3)\n",
      "Validation labels shape:  (1000,)\n",
      "Test data shape:  (10000, 32, 32, 3)\n",
      "Test labels shape:  (10000,)\n"
     ]
    }
   ],
   "source": [
    "# Load Data from Dataset\n",
    "def load_cifar10(num_training=49000, num_validation=1000, num_test=10000):\n",
    "    \"\"\"\n",
    "    Fetch the CIFAR-10 dataset from the web and perform preprocessing to prepare\n",
    "    it for the two-layer neural net classifier. These are the same steps as\n",
    "    we used for the SVM, but condensed to a single function.\n",
    "    \"\"\"\n",
    "    # Load the raw CIFAR-10 dataset and use appropriate data types and shapes\n",
    "    cifar10 = tf.keras.datasets.cifar10.load_data()\n",
    "    (X_train, y_train), (X_test, y_test) = cifar10\n",
    "    X_train = np.asarray(X_train, dtype=np.float32)\n",
    "    y_train = np.asarray(y_train, dtype=np.int32).flatten()\n",
    "    X_test = np.asarray(X_test, dtype=np.float32)\n",
    "    y_test = np.asarray(y_test, dtype=np.int32).flatten()\n",
    "\n",
    "    # Subsample the data\n",
    "    mask = range(num_training, num_training + num_validation)\n",
    "    X_val = X_train[mask]\n",
    "    y_val = y_train[mask]\n",
    "    mask = range(num_training)\n",
    "    X_train = X_train[mask]\n",
    "    y_train = y_train[mask]\n",
    "    mask = range(num_test)\n",
    "    X_test = X_test[mask]\n",
    "    y_test = y_test[mask]\n",
    "\n",
    "    # Normalize the data: subtract the mean pixel and divide by std\n",
    "    mean_pixel = X_train.mean(axis=(0, 1, 2), keepdims=True)\n",
    "    std_pixel = X_train.std(axis=(0, 1, 2), keepdims=True)\n",
    "    X_train = (X_train - mean_pixel) / std_pixel\n",
    "    X_val = (X_val - mean_pixel) / std_pixel\n",
    "    X_test = (X_test - mean_pixel) / std_pixel\n",
    "\n",
    "    return X_train, y_train, X_val, y_val, X_test, y_test\n",
    "\n",
    "\n",
    "# Invoke the above function to get our data.\n",
    "NHW = (0, 1, 2)\n",
    "X_train, y_train, X_val, y_val, X_test, y_test = load_cifar10()\n",
    "data = {\n",
    "      'X_train': X_train, 'y_train': y_train,\n",
    "      'X_val': X_val, 'y_val': y_val,\n",
    "      'X_test': X_test, 'y_test': y_test,\n",
    "    }\n",
    "print('Train data shape: ', X_train.shape)\n",
    "print('Train labels shape: ', y_train.shape, y_train.dtype)\n",
    "print('Validation data shape: ', X_val.shape)\n",
    "print('Validation labels shape: ', y_val.shape)\n",
    "print('Test data shape: ', X_test.shape)\n",
    "print('Test labels shape: ', y_test.shape)"
   ]
  },
  {
   "cell_type": "code",
   "execution_count": 3,
   "metadata": {},
   "outputs": [
    {
     "name": "stdout",
     "output_type": "stream",
     "text": [
      "Using device:  /device:GPU:0\n"
     ]
    }
   ],
   "source": [
    "USE_GPU = True\n",
    "\n",
    "if USE_GPU:\n",
    "    device = '/device:GPU:0'\n",
    "else:\n",
    "    device = '/cpu:0'\n",
    "    \n",
    "print('Using device: ', device)"
   ]
  },
  {
   "cell_type": "markdown",
   "metadata": {},
   "source": [
    "### Individuals\n",
    "\n",
    "First we need to define our individual which will have the basic attributes regardless of the choosen architecture.\n",
    "1. List of Hyperparameters such as number of filters, number of neurons, dropout ratio, learning rate, etc.;\n",
    "2. Model;\n",
    "3. Metrics, including training accuracy, training loss, validation accuracy and validation loss;\n",
    "4. Score, which is calculated based on the metrics above."
   ]
  },
  {
   "cell_type": "code",
   "execution_count": 4,
   "metadata": {},
   "outputs": [],
   "source": [
    "class Individual(object):\n",
    "    \n",
    "    def __init__(self, hyper, model):\n",
    "        self.hyper    = hyper\n",
    "        self.model    = model\n",
    "        self.val_acc  = 0\n",
    "        self.tra_acc  = 0\n",
    "        self.val_loss = 0\n",
    "        self.tra_loss = 0\n",
    "        self.score    = 0\n",
    "         \n",
    "    def getHyperVec(self):\n",
    "        return self.hyper\n",
    "    \n",
    "    def getHyper(self, i):\n",
    "        return self.hyper[i]\n",
    "    \n",
    "    def setHyper(self, i, value):\n",
    "        self.hyper[i] = value\n",
    "    \n",
    "    def getModel(self):\n",
    "        return self.model\n",
    "    \n",
    "    def getScore(self):\n",
    "        return self.score\n",
    "    \n",
    "    def setScore(self):\n",
    "        self.score = round((95*self.val_acc + 5*self.tra_acc),2)\n",
    "        \n",
    "    def getValAcc(self):\n",
    "        return self.val_acc\n",
    "    \n",
    "    def setValAcc(self, val_acc):\n",
    "        self.val_acc = val_acc\n",
    "            \n",
    "    def getTraAcc(self):\n",
    "        return self.tra_acc\n",
    "    \n",
    "    def setTraAcc(self, tra_acc):\n",
    "        self.tra_acc = tra_acc\n",
    "    \n",
    "    def getValLoss(self):\n",
    "        return self.val_loss\n",
    "    \n",
    "    def setValLoss(self, val_loss):\n",
    "        self.val_loss = val_loss\n",
    "    \n",
    "    def getTraLoss(self):\n",
    "        return self.tra_loss\n",
    "    \n",
    "    def setTraLoss(self, tra_loss):\n",
    "        self.tra_loss = tra_loss"
   ]
  },
  {
   "cell_type": "markdown",
   "metadata": {},
   "source": [
    "Since the Individual class does not depend on the model architecture, we can define the architecute in the function 'createIndividual(hyper)' that recieves a list of hyperparameters, build a model with it, and then returns an Individual with this model and hyper list as attributes."
   ]
  },
  {
   "cell_type": "code",
   "execution_count": 5,
   "metadata": {},
   "outputs": [
    {
     "name": "stdout",
     "output_type": "stream",
     "text": [
      "_________________________________________________________________\n",
      "Layer (type)                 Output Shape              Param #   \n",
      "=================================================================\n",
      "conv2d_1 (Conv2D)            (None, 32, 32, 32)        2432      \n",
      "_________________________________________________________________\n",
      "dropout_1 (Dropout)          (None, 32, 32, 32)        0         \n",
      "_________________________________________________________________\n",
      "conv2d_2 (Conv2D)            (None, 32, 32, 32)        9248      \n",
      "_________________________________________________________________\n",
      "max_pooling2d_1 (MaxPooling2 (None, 16, 16, 32)        0         \n",
      "_________________________________________________________________\n",
      "flatten_1 (Flatten)          (None, 8192)              0         \n",
      "_________________________________________________________________\n",
      "dropout_2 (Dropout)          (None, 8192)              0         \n",
      "_________________________________________________________________\n",
      "dense_1 (Dense)              (None, 150)               1228950   \n",
      "_________________________________________________________________\n",
      "dropout_3 (Dropout)          (None, 150)               0         \n",
      "_________________________________________________________________\n",
      "dense_2 (Dense)              (None, 10)                1510      \n",
      "=================================================================\n",
      "Total params: 1,242,140\n",
      "Trainable params: 1,242,140\n",
      "Non-trainable params: 0\n",
      "_________________________________________________________________\n"
     ]
    }
   ],
   "source": [
    "# Two Layers Network\n",
    "\n",
    "# Hyper[0] => Number of Filters in the Convolutional Layer\n",
    "# Hyper[1] => Number of Neurons in the Fully Connected Layer\n",
    "# Hyper[2] => Dropout Ratio\n",
    "\n",
    "def createIndividual(hyper):\n",
    "    nb_classes = 10\n",
    "    input_shape = (32,32,3)\n",
    "    \n",
    "    model = Sequential()\n",
    "    # 1st Convolutional Layer\n",
    "    model.add(Conv2D(input_shape=input_shape,\n",
    "                     filters=int(64*hyper[0]), \n",
    "                     kernel_size=(5,5), \n",
    "                     strides=(1,1), \n",
    "                     padding='same',\n",
    "                     activation = 'relu'))\n",
    "    # Dropout Layer\n",
    "    model.add(Dropout(hyper[2]))\n",
    "    # 2nd Convolutional Layer\n",
    "    model.add(Conv2D(filters=int(64*hyper[0]), \n",
    "                     kernel_size=(3,3), \n",
    "                     strides=(1,1), \n",
    "                     padding='same',\n",
    "                     activation = 'relu'))\n",
    "    # Max Pooling Layer\n",
    "    model.add(MaxPooling2D(pool_size=(2,2)))\n",
    "    # Passing it to a dense layer\n",
    "    model.add(Flatten())\n",
    "    # Dropout Layer\n",
    "    model.add(Dropout(hyper[2]))\n",
    "    # 1st Dense Layer\n",
    "    model.add(Dense(int(500*hyper[1]),\n",
    "                    activation='relu',\n",
    "                    kernel_constraint=maxnorm(3)))\n",
    "    # Dropout Layer\n",
    "    model.add(Dropout(hyper[2]))\n",
    "    # Output Layer\n",
    "    model.add(Dense(nb_classes, activation='softmax'))\n",
    "    \n",
    "    \n",
    "    model.compile(optimizer='rmsprop', loss='sparse_categorical_crossentropy', metrics=['accuracy'])\n",
    "    return Individual(hyper, model)\n",
    "\n",
    "\n",
    "ind = createIndividual([0.5,0.3,0.2])\n",
    "ind.getModel().summary()"
   ]
  },
  {
   "cell_type": "markdown",
   "metadata": {},
   "source": [
    "### Population"
   ]
  },
  {
   "cell_type": "code",
   "execution_count": 6,
   "metadata": {},
   "outputs": [],
   "source": [
    "# Create Population\n",
    "def createPopulation():\n",
    "    print(\"...Creating Population...\")\n",
    "    population = []\n",
    "    for i in range(10):\n",
    "        hyper = []\n",
    "        for j in range(3):\n",
    "            hyper.append(random.random())\n",
    "        population.append(createIndividual(hyper))\n",
    "    return population"
   ]
  },
  {
   "cell_type": "markdown",
   "metadata": {},
   "source": [
    "### Fitness \n",
    "\n",
    "Here we define how to give scores for our models, for this case, we train our models with a mini batch and check the validation accuracy.\n",
    "\n",
    "Ps: We can also use the the complexity of the model as a penalty for the models "
   ]
  },
  {
   "cell_type": "code",
   "execution_count": 8,
   "metadata": {},
   "outputs": [],
   "source": [
    "# Small Sample of the Dataset \n",
    "sample_size = 4000\n",
    "num_train = int(0.8*sample_size)\n",
    "num_val   = sample_size-num_train\n",
    "small_data = {\n",
    "  'X_train': data['X_train'][:num_train],\n",
    "  'y_train': data['y_train'][:num_train],\n",
    "  'X_val': data['X_val'][:num_val],\n",
    "  'y_val': data['y_val'][:num_val],\n",
    "}\n",
    "\n",
    "# Fitness Function\n",
    "def fitness(individual):\n",
    "    model = individual.getModel()\n",
    "    metric = model.fit(x=small_data['X_train'], y=small_data['y_train'],epochs=5, verbose=0, \n",
    "                       validation_data=(small_data['X_val'], small_data['y_val']))\n",
    "    individual.setValAcc(metric.history['val_acc'][-1])\n",
    "    individual.setTraAcc(metric.history['acc'][-1])\n",
    "    individual.setValLoss(metric.history['val_loss'][-1])\n",
    "    individual.setTraLoss(metric.history['loss'][-1])\n",
    "    individual.setScore()\n",
    "    return individual\n"
   ]
  },
  {
   "cell_type": "code",
   "execution_count": null,
   "metadata": {},
   "outputs": [],
   "source": [
    "# Checking the Best Sample Size for the Fitness function\n",
    "\n",
    "ind = createIndividual([0.2621, 0.0102, 0.219])\n",
    "sample_size = [100, 200, 500, 1000, 2000, 4000]\n",
    "for size in sample_size:\n",
    "    num_train = int(0.8*size)\n",
    "    num_val   = size-num_train\n",
    "    small_data = {\n",
    "      'X_train': data['X_train'][:num_train],\n",
    "      'y_train': data['y_train'][:num_train],\n",
    "      'X_val': data['X_val'][:num_val],\n",
    "      'y_val': data['y_val'][:num_val],\n",
    "    }\n",
    "    scores = []\n",
    "    timeValues = []\n",
    "    for i in range(20):  \n",
    "        start = time.time()\n",
    "        ind = fitness(ind)\n",
    "        end = time.time()\n",
    "        timeValues.append(end - start)\n",
    "        scores.append(ind.getScore())\n",
    "    print(\"Sample Size :\", size)\n",
    "    print(\"  Max: \", np.amax(scores))\n",
    "    print(\"  Min: \", np.amin(scores))\n",
    "    print(\"  Mean: \", np.mean(scores))\n",
    "    print(\"  Std: \", np.std(scores))\n",
    "    print(\"  Time Mean: \",np.mean(timeValues))"
   ]
  },
  {
   "cell_type": "markdown",
   "metadata": {},
   "source": [
    "### Natural Selection\n",
    "\n",
    "This cell will run the fitness function for all the individuals of that generation and sort them based on their scores. Then, it will select the best individuals of the generation and some lucky few randomly to become survivors for the next generation."
   ]
  },
  {
   "cell_type": "code",
   "execution_count": 9,
   "metadata": {},
   "outputs": [],
   "source": [
    "# Get Score of the Individual\n",
    "def getScoreElem(elem):\n",
    "    return elem.getScore()\n",
    "\n",
    "# Get Sorted List of Individuals\n",
    "def sortIndividuals(population):\n",
    "    for i in range(len(population)):\n",
    "        start = time.time()\n",
    "        population[i] = fitness(population[i])\n",
    "        end = time.time()\n",
    "        print(\"\\nTempo de treino: \", round(end- start,2),\"s\")\n",
    "        print(\"Individual \", i,\" Score: \", population[i].getScore())\n",
    "        print(\"Hyperparameters:\" , population[i].getHyperVec())\n",
    "    return sorted(population, key=getScoreElem, reverse=True)\n",
    "\n",
    "# Select the best individuals for next generation\n",
    "def naturalSelection(population, best_sample, lucky_few):\n",
    "    print(\"...Running Natural Selection...\")\n",
    "    survivers = []\n",
    "    for i in range(best_sample):\n",
    "        survivers.append(population[i])\n",
    "    for i in range(lucky_few):\n",
    "        survivers.append(random.choice(population))\n",
    "    return survivers\n"
   ]
  },
  {
   "cell_type": "markdown",
   "metadata": {},
   "source": [
    "### Children\n",
    "\n",
    "Generate new individuals, children of the survivers. It can be done in two ways:\n",
    "\n",
    "1. Generate one child from each combination of two survivors\n",
    "2. Set a constant number of children for each generation and choose two parents randomly"
   ]
  },
  {
   "cell_type": "code",
   "execution_count": 10,
   "metadata": {},
   "outputs": [],
   "source": [
    "# Create Child from two Individuals\n",
    "def createChild(individual_1, individual_2):\n",
    "    hyper = []\n",
    "    for i in range(3):\n",
    "        if (random.random() < 0.5):\n",
    "            hyper.append(individual_1.getHyper(i))\n",
    "        else: \n",
    "            hyper.append(individual_2.getHyper(i))\n",
    "    return createIndividual(hyper)\n",
    "  \n",
    "# Create Children for Next Generation\n",
    "def createChildren(population, nb_children):\n",
    "    print(\"...Creating Next Generation...\")\n",
    "    nextGeneration = []\n",
    "    for individual in population: \n",
    "        hyper = individual.getHyperVec() \n",
    "        nextGeneration.append(createIndividual(hyper))\n",
    "    for i in range(nb_children):\n",
    "        parents = random.sample(population, 2)\n",
    "        nextGeneration.append(createChild(parents[0], parents[1]))\n",
    "    return nextGeneration"
   ]
  },
  {
   "cell_type": "markdown",
   "metadata": {},
   "source": [
    "### Mutation\n",
    "\n",
    "Imagine the hyperparameters of our individual are its genes, to create a mutation we check the chances of occuring a mutation and add a random value to each of the genes. We could also check this chances of mutation for each gene instead of each individual."
   ]
  },
  {
   "cell_type": "code",
   "execution_count": 11,
   "metadata": {},
   "outputs": [],
   "source": [
    "# Generate Mutation\n",
    "def mutateIndividual(individual):\n",
    "    for i in range(len(individual.getHyperVec())):\n",
    "        mutation = individual.getHyper(i) + (0.5*random.random() - 1)\n",
    "        individual.setHyper(0, max(0, mutation))\n",
    "    return individual\n",
    "\n",
    "#Mutation for all the population\n",
    "def mutatePopulation(population, mutation_ratio):\n",
    "    print(\"...Running Mutation... \") \n",
    "    for individual in population:\n",
    "        if random.random() < mutation_ratio:\n",
    "            mutateIndividual(individual)\n",
    "    return population\n",
    "    "
   ]
  },
  {
   "cell_type": "markdown",
   "metadata": {},
   "source": [
    "### Simulating Population\n",
    "\n",
    "Now, it is time to simulate our population and get the best individuals with the best hyperparameters.\n",
    "So, we need to follow this steps:\n",
    "1. Create our first population\n",
    "2. Determinate a rule for when to stop creating new generations (for this rule, we can set a constant, or check how close the scores of the best individual and the worst individual are);\n",
    "3. Run the fitness function for each individual of the population and sort them;\n",
    "4. Select the survivors of this population;\n",
    "5. Set a new generation including the survivors of the last one and their children;\n",
    "6. Set mutations on this new generation; \n",
    "7. Stop when the rule on item 2 is satisfied."
   ]
  },
  {
   "cell_type": "code",
   "execution_count": null,
   "metadata": {},
   "outputs": [
    {
     "name": "stdout",
     "output_type": "stream",
     "text": [
      "...Creating Population...\n",
      "**********************\n",
      "Generation  0\n",
      "\n",
      "Tempo de treino:  125.55 s\n",
      "Individual  0  Score:  8.13\n",
      "Hyperparameters: [0.6876393928820429, 0.2038712262486253, 0.9273859739484763]\n",
      "\n",
      "Tempo de treino:  49.46 s\n",
      "Individual  1  Score:  8.4\n",
      "Hyperparameters: [0.21566228572434065, 0.9294357555804137, 0.8541173705674]\n",
      "\n",
      "Tempo de treino:  228.65 s\n",
      "Individual  2  Score:  23.23\n",
      "Hyperparameters: [0.9386107540720645, 0.7688647364452429, 0.7624643065346045]\n",
      "\n",
      "Tempo de treino:  185.32 s\n",
      "Individual  3  Score:  48.43\n",
      "Hyperparameters: [0.7719859196284939, 0.8249097892460979, 0.4017434614933898]\n",
      "\n",
      "Tempo de treino:  19.89 s\n",
      "Individual  4  Score:  33.72\n",
      "Hyperparameters: [0.024564812381856038, 0.5615645952835872, 0.24794851646473615]\n",
      "\n",
      "Tempo de treino:  211.74 s\n",
      "Individual  5  Score:  45.69\n",
      "Hyperparameters: [0.8926411298679301, 0.6620318545535248, 0.3568025949231557]\n",
      "\n",
      "Tempo de treino:  193.51 s\n",
      "Individual  6  Score:  7.76\n",
      "Hyperparameters: [0.8375946569988013, 0.636164445628544, 0.9953964794385399]\n",
      "\n",
      "Tempo de treino:  22.96 s\n",
      "Individual  7  Score:  7.97\n",
      "Hyperparameters: [0.04416942913402078, 0.5530171483248238, 0.8207443846465776]\n",
      "\n",
      "Tempo de treino:  146.98 s\n",
      "Individual  8  Score:  8.12\n",
      "Hyperparameters: [0.7870017454254166, 0.08837471924493923, 0.7663944787397348]\n",
      "\n",
      "Tempo de treino:  240.71 s\n",
      "Individual  9  Score:  52.17\n",
      "Hyperparameters: [0.9755315678465115, 0.7291122519432957, 0.23534536659084937]\n",
      "MaxDiff:  44.410000000000004\n",
      "...Running Natural Selection...\n",
      "...Creating Next Generation...\n",
      "...Running Mutation... \n",
      "Generation Time:  1426.69 s\n",
      "**********************\n",
      "Generation  1\n",
      "\n",
      "Tempo de treino:  247.69 s\n",
      "Individual  0  Score:  49.47\n",
      "Hyperparameters: [0.9755315678465115, 0.7291122519432957, 0.23534536659084937]\n",
      "\n",
      "Tempo de treino:  188.33 s\n",
      "Individual  1  Score:  51.06\n",
      "Hyperparameters: [0.7719859196284939, 0.8249097892460979, 0.4017434614933898]\n",
      "\n",
      "Tempo de treino:  214.63 s\n",
      "Individual  2  Score:  48.6\n",
      "Hyperparameters: [0.8926411298679301, 0.6620318545535248, 0.3568025949231557]\n"
     ]
    }
   ],
   "source": [
    "# Run Genetic Algorithm\n",
    "startAll = time.time()\n",
    "population = createPopulation()\n",
    "generations = []\n",
    "for g in range(5):\n",
    "    print('**********************')\n",
    "    print('Generation ', g) \n",
    "    start = time.time()\n",
    "    population = sortIndividuals(population)\n",
    "    generations.append(population)\n",
    "    max_diff = population[0].getScore() - population[-1].getScore()\n",
    "    print(\"MaxDiff: \",max_diff)\n",
    "    if max_diff < 3.0:\n",
    "        break\n",
    "    population = naturalSelection(population, 3, 1)\n",
    "    population = createChildren(population, 6)\n",
    "    population = mutatePopulation(population, 0.1)    \n",
    "    end = time.time()\n",
    "    print(\"Generation Time: \",round(end- start,2),\"s\")\n",
    "print('**********************')  \n",
    "print('Stop with new Generations')\n",
    "endAll = time.time()\n",
    "print(\"Execution Time: \",round(endAll- startAll,2),\"s\")"
   ]
  },
  {
   "cell_type": "markdown",
   "metadata": {},
   "source": [
    "## Plot Area\n",
    "\n",
    "Here you can check the hyperparameters, accuracy, losses and scores converging across the generations"
   ]
  },
  {
   "cell_type": "code",
   "execution_count": 110,
   "metadata": {},
   "outputs": [
    {
     "name": "stdout",
     "output_type": "stream",
     "text": [
      "Number of Generations:  6\n",
      "Number of Individuals per Generation:  10\n"
     ]
    }
   ],
   "source": [
    "# Plot of Hyperparameters Converging\n",
    "# Plot of Scores over generations\n",
    "n_generations = len(generations)\n",
    "n_individuals = len(generations[0])\n",
    "\n",
    "scores       = np.zeros( (n_generations, n_individuals), dtype=float)\n",
    "tra_acc      = np.zeros( (n_generations, n_individuals), dtype=float)\n",
    "val_acc      = np.zeros( (n_generations, n_individuals), dtype=float)\n",
    "tra_loss     = np.zeros( (n_generations, n_individuals), dtype=float)\n",
    "val_loss     = np.zeros( (n_generations, n_individuals), dtype=float)\n",
    "channel      = np.zeros( (n_generations, n_individuals), dtype=float)\n",
    "fullyConnect = np.zeros( (n_generations, n_individuals), dtype=float)\n",
    "dropout      = np.zeros( (n_generations, n_individuals), dtype=float)\n",
    "\n",
    "print(\"Number of Generations: \",n_generations)\n",
    "print(\"Number of Individuals per Generation: \",n_individuals)\n",
    "\n",
    "for i in range(n_generations):\n",
    "    for j in range(n_individuals):\n",
    "        scores[i][j]       = generations[i][j].getScore()\n",
    "        tra_acc[i][j]      = generations[i][j].getTraAcc()\n",
    "        val_acc[i][j]      = generations[i][j].getValAcc()\n",
    "        tra_loss[i][j]     = generations[i][j].getTraLoss()\n",
    "        val_loss[i][j]     = generations[i][j].getValLoss()\n",
    "        channel[i][j]      = generations[i][j].getHyper(0)\n",
    "        fullyConnect[i][j] = generations[i][j].getHyper(1)\n",
    "        dropout[i][j]      = generations[i][j].getHyper(2)"
   ]
  },
  {
   "cell_type": "code",
   "execution_count": 105,
   "metadata": {},
   "outputs": [
    {
     "data": {
      "image/png": "[encoded data removed]",
      "text/plain": [
       "<Figure size 720x360 with 1 Axes>"
      ]
     },
     "metadata": {
      "needs_background": "light"
     },
     "output_type": "display_data"
    }
   ],
   "source": [
    "# Score\n",
    "fig1     = plt.figure(figsize=(1, 1))\n",
    "scorePLT = fig1.add_subplot(1, 1, 1)\n",
    "\n",
    "# Score Labels\n",
    "scorePLT.set_title('Scores over Generations')\n",
    "scorePLT.set_xlabel('Generations')\n",
    "scorePLT.set_ylabel('Scores')\n",
    "\n",
    "# Score Plot\n",
    "scoreMin  = scores.min(axis=1)\n",
    "scoreMax  = scores.max(axis=1)\n",
    "scoreMean = scores.mean(axis=1)\n",
    "scoreStd  = scores.std(axis=1)\n",
    "scorePLT.errorbar(np.arange(6), scoreMean, yerr=scoreStd, fmt='ok', ecolor='black',lw=3)\n",
    "scorePLT.errorbar(np.arange(6), scoreMean, yerr=[scoreMean - scoreMin, scoreMax - scoreMean], ecolor='gray')\n",
    "\n",
    "plt.gcf().set_size_inches(10, 5)\n",
    "plt.show(fig1) "
   ]
  },
  {
   "cell_type": "code",
   "execution_count": 107,
   "metadata": {},
   "outputs": [
    {
     "data": {
      "image/png": "[encoded data removed]",
      "text/plain": [
       "<Figure size 1080x720 with 4 Axes>"
      ]
     },
     "metadata": {
      "needs_background": "light"
     },
     "output_type": "display_data"
    }
   ],
   "source": [
    "# Accuracy and Loss\n",
    "fig2     = plt.figure(figsize=(2, 2))\n",
    "traAccPLT   = fig2.add_subplot(2, 2, 1)\n",
    "traLossPLT  = fig2.add_subplot(2, 2, 2)\n",
    "valAccPLT   = fig2.add_subplot(2, 2, 3)\n",
    "valLossPLT  = fig2.add_subplot(2, 2, 4)\n",
    "\n",
    "# Training Accuracy Labels\n",
    "traAccPLT.set_title('Train Accuracy over Generations')\n",
    "traAccPLT.set_xlabel('Generations')\n",
    "traAccPLT.set_ylabel('Train Acc')\n",
    "# Training Loss Labels\n",
    "traLossPLT.set_title('Train Loss over Generations')\n",
    "traLossPLT.set_xlabel('Generations')\n",
    "traLossPLT.set_ylabel('Train Loss')\n",
    "# Validation Accuracy Labels\n",
    "valAccPLT.set_title('Validation Accuracy over Generations')\n",
    "valAccPLT.set_xlabel('Generations')\n",
    "valAccPLT.set_ylabel('Val Acc')\n",
    "# Validation Loss Labels\n",
    "valLossPLT.set_title('Validation Loss over Generations')\n",
    "valLossPLT.set_xlabel('Generations')\n",
    "valLossPLT.set_ylabel('Val Loss')\n",
    "\n",
    "# Training Accuracy Plot\n",
    "traAccMin  = tra_acc.min(axis=1)\n",
    "traAccMax  = tra_acc.max(axis=1)\n",
    "traAccMean = tra_acc.mean(axis=1)\n",
    "traAccStd  = tra_acc.std(axis=1)\n",
    "traAccPLT.errorbar(np.arange(6), traAccMean, traAccStd, fmt='ok', ecolor='black',lw=3)\n",
    "traAccPLT.errorbar(np.arange(6), traAccMean, [traAccMean - traAccMin, traAccMax - traAccMean], ecolor='gray')\n",
    "\n",
    "# Training Loss Plot\n",
    "traLossMin  = tra_loss.min(axis=1)\n",
    "traLossMax  = tra_loss.max(axis=1)\n",
    "traLossMean = tra_loss.mean(axis=1)\n",
    "traLossStd  = tra_loss.std(axis=1)\n",
    "traLossPLT.errorbar(np.arange(6), traLossMean, traLossStd, fmt='ok', ecolor='black',lw=3)\n",
    "traLossPLT.errorbar(np.arange(6), traLossMean, [traLossMean - traLossMin, traLossMax - traLossMean], ecolor='gray')\n",
    "\n",
    "# Validation Accuracy Plot\n",
    "valAccMin  = val_acc.min(axis=1)\n",
    "valAccMax  = val_acc.max(axis=1)\n",
    "valAccMean = val_acc.mean(axis=1)\n",
    "valAccStd  = val_acc.std(axis=1)\n",
    "valAccPLT.errorbar(np.arange(6), valAccMean, valAccStd, fmt='ok', ecolor='black',lw=3)\n",
    "valAccPLT.errorbar(np.arange(6), valAccMean, [valAccMean - valAccMin, valAccMax - valAccMean], ecolor='gray')\n",
    "\n",
    "# Validation Loss Plot\n",
    "valLossMin  = val_loss.min(axis=1)\n",
    "valLossMax  = val_loss.max(axis=1)\n",
    "valLossMean = val_loss.mean(axis=1)\n",
    "valLossStd  = val_loss.std(axis=1)\n",
    "valLossPLT.errorbar(np.arange(6), valLossMean, valLossStd, fmt='ok', ecolor='black',lw=3)\n",
    "valLossPLT.errorbar(np.arange(6), valLossMean, [valLossMean - valLossMin, valLossMax - valLossMean], ecolor='gray')\n",
    "\n",
    "plt.gcf().set_size_inches(15, 10)\n",
    "plt.subplots_adjust(wspace=0.2,hspace=0.3)\n",
    "plt.show(fig2) "
   ]
  },
  {
   "cell_type": "code",
   "execution_count": 113,
   "metadata": {},
   "outputs": [
    {
     "data": {
      "image/png": "[encoded data removed]",
      "text/plain": [
       "<Figure size 1080x720 with 3 Axes>"
      ]
     },
     "metadata": {
      "needs_background": "light"
     },
     "output_type": "display_data"
    }
   ],
   "source": [
    "# Hyperparameters\n",
    "fig3     = plt.figure(figsize=(3, 1))\n",
    "chanPLT     = fig3.add_subplot(3, 1, 1)\n",
    "fullConPLT  = fig3.add_subplot(3, 1, 2)\n",
    "dropPLT     = fig3.add_subplot(3, 1, 3)\n",
    "\n",
    "# Channel Size Labels\n",
    "chanPLT.set_title('Channel Ratio over Generations')\n",
    "chanPLT.set_xlabel('Generations')\n",
    "chanPLT.set_ylabel('Channel Ratio')\n",
    "# Fully Connected Size Labels\n",
    "fullConPLT.set_title('Fully Connected Ratio over Generations')\n",
    "fullConPLT.set_xlabel('Generations')\n",
    "fullConPLT.set_ylabel('Fully Connected Ratio')\n",
    "# Dropout Ratio Labels\n",
    "dropPLT.set_title('Dropout Ratio over Generations')\n",
    "dropPLT.set_xlabel('Generations')\n",
    "dropPLT.set_ylabel('Dropout Ratio')\n",
    "\n",
    "# Channel Size Plot\n",
    "chanMin  = channel.min(axis=1)\n",
    "chanMax  = channel.max(axis=1)\n",
    "chanMean = channel.mean(axis=1)\n",
    "chanStd  = channel.std(axis=1)\n",
    "chanPLT.errorbar(np.arange(6), chanMean, chanStd, fmt='ok', ecolor='black',lw=3)\n",
    "chanPLT.errorbar(np.arange(6), chanMean, [chanMean - chanMin, chanMax - chanMean], ecolor='gray')\n",
    "# Fully Connected Size Plot\n",
    "fullConMin  = fullyConnect.min(axis=1)\n",
    "fullConMax  = fullyConnect.max(axis=1)\n",
    "fullConMean = fullyConnect.mean(axis=1)\n",
    "fullConStd  = fullyConnect.std(axis=1)\n",
    "fullConPLT.errorbar(np.arange(6), fullConMean, fullConStd, fmt='ok', ecolor='black',lw=3)\n",
    "fullConPLT.errorbar(np.arange(6), fullConMean, [fullConMean - fullConMin, fullConMax - fullConMean], ecolor='gray')\n",
    "# Dropout Ratio Plot\n",
    "dropMin  = dropout.min(axis=1)\n",
    "dropMax  = dropout.max(axis=1)\n",
    "dropMean = dropout.mean(axis=1)\n",
    "dropStd  = dropout.std(axis=1)\n",
    "dropPLT.errorbar(np.arange(6), dropMean, dropStd, fmt='ok', ecolor='black',lw=3)\n",
    "dropPLT.errorbar(np.arange(6), dropMean, [dropMean - dropMin, dropMax - dropMean], ecolor='gray')\n",
    "\n",
    "plt.gcf().set_size_inches(15, 10)\n",
    "plt.subplots_adjust(wspace=0.2,hspace=0.5)\n",
    "plt.show(fig3) "
   ]
  },
  {
   "cell_type": "markdown",
   "metadata": {},
   "source": [
    "## Conclusions\n",
    "\n",
    "Chekcing the graphics above it is possible to see the models converging over the generations. \n",
    "\n",
    "Generic Algorithm that works for any model we want to find hyperparameters, it is need to ajust the createIndividual() function to define the architecture.\n",
    "\n",
    "\n",
    "\n",
    "\n",
    "\n",
    "##### Advantages\n",
    "\n",
    "    1. Generic way to test lots of hyperparameters instead of using brute force\n",
    "    2. No need to map all the options for hyperparameters\n",
    "    3. Faster than training all options for hyperparameters.\n",
    "    \n",
    "\n",
    "##### Problems\n",
    "\n",
    "    1. A bit slow, fitness functions needs to train a model every time. One way to fix this is by training the model using smaller batches. However, we face another issue, the precision of the score is lost. So if we run the fitness for the same individual, it will get different scores for each run.\n",
    "    2. Not totally precise fitness functions.\n",
    "    \n",
    "    \n",
    "##### Observations\n",
    "\n",
    "    1. Unfair competition: if we retrain the parents and put them to compete with the first trained children it will be an unfair competition. Due to this fact, for each generation we need to can not train the model of the individual, we need to attribute the model to a variable and train that variable.\n",
    "    2. Pattern: to let the algorithm generic, we need to pattern the hyperparameters. I choose to let all of them be float numbers between 0 to 1. We then treate this values when creating the individuals which will always be different for each problem we wanna solve.\n",
    "    \n",
    "    "
   ]
  },
  {
   "cell_type": "markdown",
   "metadata": {},
   "source": [
    "### \"UltraParameteres\"\n",
    "\n",
    "This section is just to discuss some of the parameters we can choose for our genetic algorithm that could iprove the evolution of our models.\n",
    "\n",
    "1. Population Size\n",
    "2. \n",
    "3. Mutation Ratio\n",
    "4. Sample Size: size of the batches used for training your model and getting your score. \n",
    "    Remember that if you that a large value, it will take a long time to train your models.\n",
    "    On the other hand, if you take a small number, your fitness function loose precision.\n",
    "5. \n",
    "6. \n",
    "\n"
   ]
  },
  {
   "cell_type": "markdown",
   "metadata": {},
   "source": [
    "### To Do List\n",
    "\n",
    "1. Organize the code to put it in another file, stuff like classes, functions and others... let only the code for testing our experiment and showing the results here;\n",
    "\n",
    "2. Conclude the texts explaining each part of the project and make the layout look nicer;\n",
    "\n",
    "3. Retrain the winner models\n",
    "\n",
    "\n",
    "\n",
    "\n",
    "\n",
    "\n",
    "\n",
    "\n"
   ]
  }
 ],
 "metadata": {
  "kernelspec": {
   "display_name": "Python 3",
   "language": "python",
   "name": "python3"
  },
  "language_info": {
   "codemirror_mode": {
    "name": "ipython",
    "version": 3
   },
   "file_extension": ".py",
   "mimetype": "text/x-python",
   "name": "python",
   "nbconvert_exporter": "python",
   "pygments_lexer": "ipython3",
   "version": "3.6.7"
  }
 },
 "nbformat": 4,
 "nbformat_minor": 2
}
